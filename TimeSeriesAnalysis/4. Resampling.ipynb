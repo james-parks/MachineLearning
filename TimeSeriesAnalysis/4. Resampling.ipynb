{
 "cells": [
  {
   "cell_type": "code",
   "execution_count": 1,
   "metadata": {
    "collapsed": true
   },
   "outputs": [],
   "source": [
    "import pandas as pd\n",
    "import numpy as np"
   ]
  },
  {
   "cell_type": "code",
   "execution_count": 2,
   "metadata": {
    "collapsed": true
   },
   "outputs": [],
   "source": [
    "rng = pd.date_range('1/1/2011', periods=72, freq='H')\n",
    "ts = pd.Series(np.random.randn(len(rng)), index=rng)"
   ]
  },
  {
   "cell_type": "code",
   "execution_count": 3,
   "metadata": {
    "collapsed": false
   },
   "outputs": [
    {
     "data": {
      "text/plain": [
       "2011-01-01 00:00:00   -1.325008\n",
       "2011-01-01 00:45:00   -1.325008\n",
       "2011-01-01 01:30:00   -0.800472\n",
       "2011-01-01 02:15:00   -1.227676\n",
       "2011-01-01 03:00:00   -0.556124\n",
       "2011-01-01 03:45:00   -0.556124\n",
       "2011-01-01 04:30:00   -0.038389\n",
       "2011-01-01 05:15:00   -0.063361\n",
       "2011-01-01 06:00:00   -0.993169\n",
       "2011-01-01 06:45:00   -0.993169\n",
       "2011-01-01 07:30:00    0.240450\n",
       "2011-01-01 08:15:00   -0.135450\n",
       "2011-01-01 09:00:00    1.220739\n",
       "2011-01-01 09:45:00    1.220739\n",
       "2011-01-01 10:30:00    1.451104\n",
       "2011-01-01 11:15:00    0.631777\n",
       "2011-01-01 12:00:00    0.240401\n",
       "2011-01-01 12:45:00    0.240401\n",
       "2011-01-01 13:30:00    1.590780\n",
       "2011-01-01 14:15:00    1.506037\n",
       "2011-01-01 15:00:00   -0.142454\n",
       "2011-01-01 15:45:00   -0.142454\n",
       "2011-01-01 16:30:00    1.207539\n",
       "2011-01-01 17:15:00    1.071030\n",
       "2011-01-01 18:00:00   -0.548518\n",
       "2011-01-01 18:45:00   -0.548518\n",
       "2011-01-01 19:30:00    1.522313\n",
       "2011-01-01 20:15:00   -0.011622\n",
       "2011-01-01 21:00:00    0.968024\n",
       "2011-01-01 21:45:00    0.968024\n",
       "                         ...   \n",
       "2011-01-03 00:45:00    0.452355\n",
       "2011-01-03 01:30:00    0.642330\n",
       "2011-01-03 02:15:00   -0.724028\n",
       "2011-01-03 03:00:00   -0.171778\n",
       "2011-01-03 03:45:00   -0.171778\n",
       "2011-01-03 04:30:00   -0.415847\n",
       "2011-01-03 05:15:00    0.387413\n",
       "2011-01-03 06:00:00    0.150049\n",
       "2011-01-03 06:45:00    0.150049\n",
       "2011-01-03 07:30:00   -0.012676\n",
       "2011-01-03 08:15:00    0.739444\n",
       "2011-01-03 09:00:00    0.942002\n",
       "2011-01-03 09:45:00    0.942002\n",
       "2011-01-03 10:30:00   -0.318995\n",
       "2011-01-03 11:15:00    0.829355\n",
       "2011-01-03 12:00:00    0.996808\n",
       "2011-01-03 12:45:00    0.996808\n",
       "2011-01-03 13:30:00   -0.192668\n",
       "2011-01-03 14:15:00    0.511280\n",
       "2011-01-03 15:00:00   -0.038044\n",
       "2011-01-03 15:45:00   -0.038044\n",
       "2011-01-03 16:30:00    0.112918\n",
       "2011-01-03 17:15:00    0.037856\n",
       "2011-01-03 18:00:00   -0.224286\n",
       "2011-01-03 18:45:00   -0.224286\n",
       "2011-01-03 19:30:00   -0.335495\n",
       "2011-01-03 20:15:00   -0.450376\n",
       "2011-01-03 21:00:00   -0.299868\n",
       "2011-01-03 21:45:00   -0.299868\n",
       "2011-01-03 22:30:00   -0.371737\n",
       "Freq: 45T, dtype: float64"
      ]
     },
     "execution_count": 3,
     "metadata": {},
     "output_type": "execute_result"
    }
   ],
   "source": [
    "converted = ts.asfreq('45Min', method='pad')\n",
    "converted"
   ]
  },
  {
   "cell_type": "code",
   "execution_count": 4,
   "metadata": {
    "collapsed": false
   },
   "outputs": [
    {
     "name": "stdout",
     "output_type": "stream",
     "text": [
      "72\n",
      "95\n",
      "Yes, asfreq changes the # of rows.\n"
     ]
    }
   ],
   "source": [
    "# Does asfreq change the # of rows?\n",
    "print(len(ts))\n",
    "print(len(converted))\n",
    "print(\"Yes, asfreq changes the # of rows.\")"
   ]
  },
  {
   "cell_type": "code",
   "execution_count": 6,
   "metadata": {
    "collapsed": false
   },
   "outputs": [],
   "source": [
    "# What do the different methods do?\n",
    "# method : {‘backfill’, ‘bfill’, ‘pad’, ‘ffill’, None}\n",
    "# backfill = bfill = back fill interpolation\n",
    "# pad = ffill = forward fill interpolation\n",
    "# none = does not interpolate"
   ]
  },
  {
   "cell_type": "code",
   "execution_count": 7,
   "metadata": {
    "collapsed": false
   },
   "outputs": [],
   "source": [
    "# Might any of these methods have pitfalls from a logical point of view?\n",
    "# With backfill one runs the risk of \"looking into the future\" for Time Series data, which doesn't make sense"
   ]
  },
  {
   "cell_type": "code",
   "execution_count": 8,
   "metadata": {
    "collapsed": true
   },
   "outputs": [],
   "source": [
    "# What's the difference between going to a higher frequency and a lower frequency?"
   ]
  },
  {
   "cell_type": "code",
   "execution_count": 9,
   "metadata": {
    "collapsed": false
   },
   "outputs": [
    {
     "data": {
      "text/plain": [
       "48"
      ]
     },
     "execution_count": 9,
     "metadata": {},
     "output_type": "execute_result"
    }
   ],
   "source": [
    "converted = ts.asfreq('90Min', method = 'bfill')\n",
    "len(converted)\n",
    "# There will be fewer rows, since we have less timestamps."
   ]
  },
  {
   "cell_type": "code",
   "execution_count": null,
   "metadata": {
    "collapsed": true
   },
   "outputs": [],
   "source": [
    "# What's different logically about going to a higher frequency vs a lower frequency? \n",
    "# What do you want to do when switching to a lower frequency that is not logical when switching to a higher frequency?"
   ]
  },
  {
   "cell_type": "code",
   "execution_count": 10,
   "metadata": {
    "collapsed": false
   },
   "outputs": [
    {
     "data": {
      "text/plain": [
       "2011-01-01    7.683613\n",
       "2011-01-02    2.006249\n",
       "2011-01-03    4.144159\n",
       "Freq: D, dtype: float64"
      ]
     },
     "execution_count": 10,
     "metadata": {},
     "output_type": "execute_result"
    }
   ],
   "source": [
    "ts.resample('D').sum()"
   ]
  },
  {
   "cell_type": "code",
   "execution_count": null,
   "metadata": {
    "collapsed": true
   },
   "outputs": [],
   "source": [
    "# What if you want to downsample and you don't want to ffill or bfill?\n",
    "# Use method=None"
   ]
  },
  {
   "cell_type": "code",
   "execution_count": null,
   "metadata": {
    "collapsed": true
   },
   "outputs": [],
   "source": [
    "# What is the difference between .resample() and .asfreq()?\n",
    "# Using .resample() creates an object whereas .asfreq() is used for quick conversion"
   ]
  },
  {
   "cell_type": "code",
   "execution_count": null,
   "metadata": {
    "collapsed": true
   },
   "outputs": [],
   "source": [
    "# What are some special things you can do with .resample() you can't do with .asfreq()?\n",
    "# With .resample() one can use functions like count, mean, quantile that's can't be used with .asfreq()"
   ]
  },
  {
   "cell_type": "code",
   "execution_count": null,
   "metadata": {
    "collapsed": false
   },
   "outputs": [],
   "source": []
  },
  {
   "cell_type": "code",
   "execution_count": null,
   "metadata": {
    "collapsed": true
   },
   "outputs": [],
   "source": []
  }
 ],
 "metadata": {
  "kernelspec": {
   "display_name": "Python 3",
   "language": "python",
   "name": "python3"
  },
  "language_info": {
   "codemirror_mode": {
    "name": "ipython",
    "version": 3
   },
   "file_extension": ".py",
   "mimetype": "text/x-python",
   "name": "python",
   "nbconvert_exporter": "python",
   "pygments_lexer": "ipython3",
   "version": "3.6.0"
  }
 },
 "nbformat": 4,
 "nbformat_minor": 0
}
