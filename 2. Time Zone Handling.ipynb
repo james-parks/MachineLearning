{
 "cells": [
  {
   "cell_type": "code",
   "execution_count": 1,
   "metadata": {
    "collapsed": true
   },
   "outputs": [],
   "source": [
    "import numpy as np\n",
    "import pandas as pd"
   ]
  },
  {
   "cell_type": "code",
   "execution_count": 2,
   "metadata": {
    "collapsed": true
   },
   "outputs": [],
   "source": [
    "rng = pd.date_range('3/6/2012 00:00', periods = 15, freq = 'D')\n",
    "rng.tz"
   ]
  },
  {
   "cell_type": "code",
   "execution_count": 3,
   "metadata": {
    "collapsed": false
   },
   "outputs": [
    {
     "data": {
      "text/plain": [
       "<DstTzInfo 'Europe/London' LMT-1 day, 23:59:00 STD>"
      ]
     },
     "execution_count": 3,
     "metadata": {},
     "output_type": "execute_result"
    }
   ],
   "source": [
    "rng_tz = pd.date_range('3/6/2012 00:00', periods = 15, freq = 'D', tz = 'Europe/London')\n",
    "rng_tz.tz"
   ]
  },
  {
   "cell_type": "code",
   "execution_count": 4,
   "metadata": {
    "collapsed": false
   },
   "outputs": [
    {
     "name": "stdout",
     "output_type": "stream",
     "text": [
      "439\n",
      "592\n",
      "{'ROC', 'W-SU', 'Asia/Chongqing', 'Pacific/Samoa', 'Portugal', 'Etc/GMT-3', 'America/Rosario', 'US/Aleutian', 'Europe/Belfast', 'Asia/Thimbu', 'Europe/Tiraspol', 'Kwajalein', 'Etc/Universal', 'MST', 'Etc/GMT+12', 'Chile/Continental', 'Etc/GMT-10', 'Etc/Greenwich', 'Etc/GMT-7', 'Singapore', 'Etc/GMT+2', 'GMT+0', 'Australia/Victoria', 'Greenwich', 'Libya', 'Hongkong', 'MET', 'Cuba', 'Asia/Kashgar', 'PRC', 'Etc/GMT+0', 'US/Pacific-New', 'Europe/Nicosia', 'NZ', 'Zulu', 'Pacific/Yap', 'America/Coral_Harbour', 'Australia/Queensland', 'Iran', 'Etc/GMT+10', 'US/Indiana-Starke', 'America/Montreal', 'Mexico/General', 'Africa/Asmera', 'Etc/GMT+6', 'MST7MDT', 'Asia/Ujung_Pandang', 'Pacific/Ponape', 'America/Knox_IN', 'America/Fort_Wayne', 'Poland', 'America/Argentina/ComodRivadavia', 'Australia/NSW', 'Asia/Katmandu', 'Asia/Ashkhabad', 'America/Virgin', 'Etc/GMT+4', 'America/Cordoba', 'Etc/GMT+5', 'Mexico/BajaNorte', 'Navajo', 'Etc/GMT-6', 'Africa/Timbuktu', 'Etc/GMT-12', 'Asia/Saigon', 'Australia/LHI', 'Egypt', 'Etc/GMT-4', 'Atlantic/Faeroe', 'Etc/GMT-13', 'America/Buenos_Aires', 'Etc/Zulu', 'Asia/Chungking', 'Jamaica', 'GB', 'PST8PDT', 'Chile/EasterIsland', 'America/Mendoza', 'Etc/GMT-14', 'Australia/North', 'America/Atka', 'Etc/GMT-8', 'Etc/GMT+11', 'EST', 'Etc/GMT+1', 'CET', 'NZ-CHAT', 'Canada/East-Saskatchewan', 'GMT0', 'America/Jujuy', 'ROK', 'Etc/GMT+7', 'Australia/Tasmania', 'Brazil/West', 'Iceland', 'Japan', 'Asia/Ulan_Bator', 'Etc/GMT+3', 'Etc/GMT+8', 'Asia/Istanbul', 'Canada/Yukon', 'Brazil/DeNoronha', 'Canada/Saskatchewan', 'Universal', 'America/Catamarca', 'US/Samoa', 'Asia/Calcutta', 'Australia/Yancowinna', 'Asia/Harbin', 'America/Santa_Isabel', 'Asia/Macao', 'US/Michigan', 'Brazil/East', 'America/Louisville', 'UCT', 'Eire', 'Etc/GMT0', 'Australia/West', 'Etc/GMT-5', 'HST', 'Etc/GMT-9', 'GMT-0', 'GB-Eire', 'Pacific/Truk', 'America/Shiprock', 'Israel', 'America/Porto_Acre', 'Antarctica/South_Pole', 'Turkey', 'Australia/South', 'Australia/ACT', 'Etc/GMT', 'WET', 'Asia/Tel_Aviv', 'US/East-Indiana', 'Etc/GMT-2', 'Etc/UCT', 'Etc/GMT-11', 'Mexico/BajaSur', 'Etc/GMT-0', 'America/Ensenada', 'Atlantic/Jan_Mayen', 'Brazil/Acre', 'EST5EDT', 'CST6CDT', 'Etc/UTC', 'America/Indianapolis', 'Etc/GMT-1', 'Asia/Rangoon', 'Etc/GMT+9', 'EET', 'Australia/Canberra', 'Asia/Dacca'}\n"
     ]
    }
   ],
   "source": [
    "from pytz import common_timezones, all_timezones\n",
    "print(len(common_timezones))\n",
    "print(len(all_timezones))\n",
    "print(set(all_timezones) - set(common_timezones))"
   ]
  },
  {
   "cell_type": "code",
   "execution_count": 5,
   "metadata": {
    "collapsed": false
   },
   "outputs": [
    {
     "data": {
      "text/plain": [
       "Timestamp('2016-07-10 08:50:00')"
      ]
     },
     "execution_count": 5,
     "metadata": {},
     "output_type": "execute_result"
    }
   ],
   "source": [
    "# You can also localize a naive timestamp\n",
    "t_naive = pd.Timestamp('2016-07-10 08:50')\n",
    "t_naive"
   ]
  },
  {
   "cell_type": "code",
   "execution_count": 6,
   "metadata": {
    "collapsed": false
   },
   "outputs": [
    {
     "data": {
      "text/plain": [
       "Timestamp('2016-07-10 08:50:00-0500', tz='US/Central')"
      ]
     },
     "execution_count": 6,
     "metadata": {},
     "output_type": "execute_result"
    }
   ],
   "source": [
    "t = t_naive.tz_localize(tz = 'US/Central')\n",
    "t"
   ]
  },
  {
   "cell_type": "code",
   "execution_count": 7,
   "metadata": {
    "collapsed": false
   },
   "outputs": [
    {
     "data": {
      "text/plain": [
       "Timestamp('2016-07-10 22:50:00+0900', tz='Asia/Tokyo')"
      ]
     },
     "execution_count": 7,
     "metadata": {},
     "output_type": "execute_result"
    }
   ],
   "source": [
    "t.tz_convert('Asia/Tokyo')"
   ]
  },
  {
   "cell_type": "code",
   "execution_count": 8,
   "metadata": {
    "collapsed": false
   },
   "outputs": [
    {
     "data": {
      "text/plain": [
       "2016-03-10 00:00:00-06:00    0\n",
       "2016-03-11 00:00:00-06:00    1\n",
       "2016-03-12 00:00:00-06:00    2\n",
       "2016-03-13 00:00:00-06:00    3\n",
       "2016-03-14 00:00:00-05:00    4\n",
       "2016-03-15 00:00:00-05:00    5\n",
       "2016-03-16 00:00:00-05:00    6\n",
       "2016-03-17 00:00:00-05:00    7\n",
       "2016-03-18 00:00:00-05:00    8\n",
       "2016-03-19 00:00:00-05:00    9\n",
       "Freq: D, dtype: int32"
      ]
     },
     "execution_count": 8,
     "metadata": {},
     "output_type": "execute_result"
    }
   ],
   "source": [
    "# how to handle daylight savings?\n",
    "rng = pd.date_range('2016-03-10', periods=10, tz='US/Central')\n",
    "ts = pd.Series(range(10), index=rng)\n",
    "ts"
   ]
  },
  {
   "cell_type": "code",
   "execution_count": 9,
   "metadata": {
    "collapsed": false
   },
   "outputs": [
    {
     "data": {
      "text/plain": [
       "2016-03-10 00:00:00+00:00    0\n",
       "2016-03-11 00:00:00+00:00    1\n",
       "2016-03-12 00:00:00+00:00    2\n",
       "2016-03-13 00:00:00+00:00    3\n",
       "2016-03-14 00:00:00+00:00    4\n",
       "2016-03-15 00:00:00+00:00    5\n",
       "2016-03-16 00:00:00+00:00    6\n",
       "2016-03-17 00:00:00+00:00    7\n",
       "2016-03-18 00:00:00+00:00    8\n",
       "2016-03-19 00:00:00+00:00    9\n",
       "Freq: D, dtype: int32"
      ]
     },
     "execution_count": 9,
     "metadata": {},
     "output_type": "execute_result"
    }
   ],
   "source": [
    "rng = pd.date_range('2016-03-10', periods=10, tz='utc')\n",
    "ts = pd.Series(range(10), index=rng)\n",
    "ts"
   ]
  },
  {
   "cell_type": "code",
   "execution_count": 10,
   "metadata": {
    "collapsed": false
   },
   "outputs": [
    {
     "data": {
      "text/plain": [
       "2016-03-09 18:00:00-06:00    0\n",
       "2016-03-10 18:00:00-06:00    1\n",
       "2016-03-11 18:00:00-06:00    2\n",
       "2016-03-12 18:00:00-06:00    3\n",
       "2016-03-13 19:00:00-05:00    4\n",
       "2016-03-14 19:00:00-05:00    5\n",
       "2016-03-15 19:00:00-05:00    6\n",
       "2016-03-16 19:00:00-05:00    7\n",
       "2016-03-17 19:00:00-05:00    8\n",
       "2016-03-18 19:00:00-05:00    9\n",
       "Freq: D, dtype: int32"
      ]
     },
     "execution_count": 10,
     "metadata": {},
     "output_type": "execute_result"
    }
   ],
   "source": [
    "ts.tz_convert('US/Central')"
   ]
  },
  {
   "cell_type": "code",
   "execution_count": 11,
   "metadata": {
    "collapsed": false
   },
   "outputs": [
    {
     "data": {
      "text/plain": [
       "DatetimeIndex(['2016-03-12 22:00:00-05:00', '2016-03-12 23:00:00-05:00',\n",
       "               '2016-03-13 00:00:00-05:00', '2016-03-13 01:00:00-05:00',\n",
       "               '2016-03-13 03:00:00-04:00', '2016-03-13 04:00:00-04:00',\n",
       "               '2016-03-13 05:00:00-04:00', '2016-03-13 06:00:00-04:00',\n",
       "               '2016-03-13 07:00:00-04:00', '2016-03-13 08:00:00-04:00',\n",
       "               '2016-03-13 09:00:00-04:00', '2016-03-13 10:00:00-04:00'],\n",
       "              dtype='datetime64[ns, US/Eastern]', freq='H')"
      ]
     },
     "execution_count": 11,
     "metadata": {},
     "output_type": "execute_result"
    }
   ],
   "source": [
    "pd.date_range('03-12-2016 22:00', periods = 12, freq = 'H', tz = 'US/Eastern')"
   ]
  },
  {
   "cell_type": "code",
   "execution_count": 12,
   "metadata": {
    "collapsed": false
   },
   "outputs": [
    {
     "data": {
      "text/plain": [
       "Timestamp('2016-03-13 03:00:00-0400', tz='US/Eastern')"
      ]
     },
     "execution_count": 12,
     "metadata": {},
     "output_type": "execute_result"
    }
   ],
   "source": [
    "# May autocorrect an error rather than giving you a non-existent time error\n",
    "pd.Timestamp('2016-03-13 02:00', tz = 'US/Eastern')"
   ]
  },
  {
   "cell_type": "code",
   "execution_count": null,
   "metadata": {
    "collapsed": true
   },
   "outputs": [],
   "source": []
  }
 ],
 "metadata": {
  "kernelspec": {
   "display_name": "Python 3",
   "language": "python",
   "name": "python3"
  },
  "language_info": {
   "codemirror_mode": {
    "name": "ipython",
    "version": 3
   },
   "file_extension": ".py",
   "mimetype": "text/x-python",
   "name": "python",
   "nbconvert_exporter": "python",
   "pygments_lexer": "ipython3",
   "version": "3.6.0"
  }
 },
 "nbformat": 4,
 "nbformat_minor": 0
}
